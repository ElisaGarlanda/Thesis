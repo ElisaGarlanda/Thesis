{
 "cells": [
  {
   "cell_type": "markdown",
   "metadata": {},
   "source": [
    "# Feature extraction"
   ]
  },
  {
   "cell_type": "code",
   "execution_count": 1,
   "metadata": {},
   "outputs": [],
   "source": [
    "from feature_extraction import extract_features\n",
    "from torchvision import datasets, transforms\n",
    "import pandas as pd\n",
    "import pickle\n",
    "import os"
   ]
  },
  {
   "cell_type": "code",
   "execution_count": null,
   "metadata": {},
   "outputs": [],
   "source": [
    "data_dir_train = 'clear100-train-image-only/train/labeled_images'\n",
    "data_dir_test = 'clear100-test/test/labeled_images'\n",
    "transform = transforms.Compose([\n",
    "    transforms.Resize(224),\n",
    "    transforms.RandomCrop(224),\n",
    "    transforms.ToTensor(),\n",
    "    transforms.Normalize(\n",
    "        mean=[0.485, 0.456, 0.406], std=[0.229, 0.224, 0.225]\n",
    "    )]\n",
    ")\n",
    "\n",
    "first_exp=0\n",
    "nexp=11\n",
    "cnn_types=['moco']\n",
    "save_dir='feature_extraction'\n",
    "seeds = [2024]"
   ]
  },
  {
   "cell_type": "code",
   "execution_count": 3,
   "metadata": {},
   "outputs": [],
   "source": [
    "def run_feat_extract(cnn_type, seeds, data_dir_train, data_dir_test, save_dir, transform,first_exp=0, nexp=11):\n",
    "    times = pd.DataFrame(columns = ['seed', 'time_cnn'])\n",
    "    for seed in seeds:\n",
    "        save_dir_seed = save_dir +'/features_' + cnn_type +'_seed' + str(seed) \n",
    "        cnn_time = extract_features(cnn_type, seed=seed, data_dir_train=data_dir_train, data_dir_test=data_dir_test, save_dir=save_dir_seed, transform=transform,\n",
    "                 first_exp=first_exp, nexp=nexp)\n",
    "        new_row = {}\n",
    "        new_row['seed'] = seed\n",
    "        new_row['time_cnn'] = cnn_time\n",
    "        new_row_df = pd.DataFrame([new_row])\n",
    "        times = pd.concat([times, new_row_df], ignore_index=True)\n",
    "\n",
    "    save_dir_times = save_dir + '/' + cnn_type+'_cnn_times_seed' + str(seed) +'.pkl'\n",
    "    if not os.path.exists(save_dir):\n",
    "        os.makedirs(save_dir)\n",
    "\n",
    "    times.to_pickle(save_dir_times)                \n",
    "      "
   ]
  },
  {
   "cell_type": "code",
   "execution_count": null,
   "metadata": {},
   "outputs": [],
   "source": [
    "for cnn_type in cnn_types:\n",
    "    run_feat_extract(cnn_type, seeds=seeds, data_dir_train=data_dir_train, data_dir_test=data_dir_test, save_dir=save_dir, transform = transform,\n",
    "                     first_exp=first_exp, nexp=nexp)"
   ]
  }
 ],
 "metadata": {
  "kernelspec": {
   "display_name": "tesi",
   "language": "python",
   "name": "python3"
  },
  "language_info": {
   "codemirror_mode": {
    "name": "ipython",
    "version": 3
   },
   "file_extension": ".py",
   "mimetype": "text/x-python",
   "name": "python",
   "nbconvert_exporter": "python",
   "pygments_lexer": "ipython3",
   "version": "3.12.2"
  }
 },
 "nbformat": 4,
 "nbformat_minor": 2
}
