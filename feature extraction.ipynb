{
 "cells": [
  {
   "cell_type": "markdown",
   "metadata": {},
   "source": [
    "# Feature extraction"
   ]
  },
  {
   "cell_type": "code",
   "execution_count": 1,
   "metadata": {},
   "outputs": [],
   "source": [
    "from feature_extraction import extract_features\n",
    "from torchvision import datasets, transforms\n",
    "import pandas as pd\n",
    "import pickle\n",
    "import os"
   ]
  },
  {
   "cell_type": "code",
   "execution_count": 2,
   "metadata": {},
   "outputs": [],
   "source": [
    "data_dir_train = 'D:/Poli/Tesi/Code/clear100-train-image-only/train/labeled_images'\n",
    "data_dir_test = 'D:/Poli/Tesi/Code/clear100-test/test/labeled_images'\n",
    "transform = transforms.Compose([\n",
    "    transforms.Resize(224),\n",
    "    transforms.RandomCrop(224),\n",
    "    transforms.ToTensor(),\n",
    "    transforms.Normalize(\n",
    "        mean=[0.485, 0.456, 0.406], std=[0.229, 0.224, 0.225]\n",
    "    )]\n",
    ")\n",
    "\n",
    "first_exp=0\n",
    "nexp=11\n",
    "#seeds = [1, 20, 42, 90, 100, 320, 500, 2024, 5555, 10000]\n",
    "cnn_types=['moco']\n",
    "save_dir='feature_extraction'\n",
    "\n",
    "# da cancellare\n",
    "first_exp=0\n",
    "nexp=11\n",
    "seeds = [42, 555, 1906]"
   ]
  },
  {
   "cell_type": "code",
   "execution_count": 3,
   "metadata": {},
   "outputs": [],
   "source": [
    "def run_feat_extract(cnn_type, seeds, data_dir_train, data_dir_test, save_dir, transform,first_exp=0, nexp=11):\n",
    "    times = pd.DataFrame(columns = ['seed', 'time_cnn'])\n",
    "    for seed in seeds:\n",
    "        save_dir_seed = save_dir +'/features_' + cnn_type +'_seed' + str(seed) \n",
    "        cnn_time = extract_features(cnn_type, seed=seed, data_dir_train=data_dir_train, data_dir_test=data_dir_test, save_dir=save_dir_seed, transform=transform,\n",
    "                 first_exp=first_exp, nexp=nexp)\n",
    "        new_row = {}\n",
    "        new_row['seed'] = seed\n",
    "        new_row['time_cnn'] = cnn_time\n",
    "        new_row_df = pd.DataFrame([new_row])\n",
    "        times = pd.concat([times, new_row_df], ignore_index=True)\n",
    "\n",
    "    save_dir_times = save_dir + '/' + cnn_type+'_cnn_times_seed' + str(seed) +'.pkl'\n",
    "    if not os.path.exists(save_dir):\n",
    "        os.makedirs(save_dir)\n",
    "\n",
    "    times.to_pickle(save_dir_times)                \n",
    "      "
   ]
  },
  {
   "cell_type": "code",
   "execution_count": 6,
   "metadata": {},
   "outputs": [
    {
     "name": "stderr",
     "output_type": "stream",
     "text": [
      "c:\\Users\\eliga\\anaconda3\\envs\\tesi\\Lib\\site-packages\\torchvision\\models\\_utils.py:208: UserWarning: The parameter 'pretrained' is deprecated since 0.13 and may be removed in the future, please use 'weights' instead.\n",
      "  warnings.warn(\n",
      "c:\\Users\\eliga\\anaconda3\\envs\\tesi\\Lib\\site-packages\\torchvision\\models\\_utils.py:223: UserWarning: Arguments other than a weight enum or `None` for 'weights' are deprecated since 0.13 and may be removed in the future. The current behavior is equivalent to passing `weights=None`.\n",
      "  warnings.warn(msg)\n",
      "C:\\Users\\eliga\\AppData\\Local\\Temp\\ipykernel_11528\\768898423.py:11: FutureWarning: The behavior of DataFrame concatenation with empty or all-NA entries is deprecated. In a future version, this will no longer exclude empty or all-NA columns when determining the result dtypes. To retain the old behavior, exclude the relevant entries before the concat operation.\n",
      "  times = pd.concat([times, new_row_df], ignore_index=True)\n"
     ]
    }
   ],
   "source": [
    "seeds=[42]\n",
    "for cnn_type in cnn_types:\n",
    "    run_feat_extract(cnn_type, seeds=seeds, data_dir_train=data_dir_train, data_dir_test=data_dir_test, save_dir=save_dir, transform = transform,\n",
    "                     first_exp=8, nexp=nexp)"
   ]
  },
  {
   "cell_type": "code",
   "execution_count": 7,
   "metadata": {},
   "outputs": [
    {
     "name": "stderr",
     "output_type": "stream",
     "text": [
      "c:\\Users\\eliga\\anaconda3\\envs\\tesi\\Lib\\site-packages\\torchvision\\models\\_utils.py:208: UserWarning: The parameter 'pretrained' is deprecated since 0.13 and may be removed in the future, please use 'weights' instead.\n",
      "  warnings.warn(\n",
      "c:\\Users\\eliga\\anaconda3\\envs\\tesi\\Lib\\site-packages\\torchvision\\models\\_utils.py:223: UserWarning: Arguments other than a weight enum or `None` for 'weights' are deprecated since 0.13 and may be removed in the future. The current behavior is equivalent to passing `weights=None`.\n",
      "  warnings.warn(msg)\n",
      "C:\\Users\\eliga\\AppData\\Local\\Temp\\ipykernel_11528\\768898423.py:11: FutureWarning: The behavior of DataFrame concatenation with empty or all-NA entries is deprecated. In a future version, this will no longer exclude empty or all-NA columns when determining the result dtypes. To retain the old behavior, exclude the relevant entries before the concat operation.\n",
      "  times = pd.concat([times, new_row_df], ignore_index=True)\n",
      "c:\\Users\\eliga\\anaconda3\\envs\\tesi\\Lib\\site-packages\\torchvision\\models\\_utils.py:208: UserWarning: The parameter 'pretrained' is deprecated since 0.13 and may be removed in the future, please use 'weights' instead.\n",
      "  warnings.warn(\n",
      "c:\\Users\\eliga\\anaconda3\\envs\\tesi\\Lib\\site-packages\\torchvision\\models\\_utils.py:223: UserWarning: Arguments other than a weight enum or `None` for 'weights' are deprecated since 0.13 and may be removed in the future. The current behavior is equivalent to passing `weights=None`.\n",
      "  warnings.warn(msg)\n"
     ]
    }
   ],
   "source": [
    "seeds=[5555, 1906]\n",
    "for cnn_type in cnn_types:\n",
    "    run_feat_extract(cnn_type, seeds=seeds, data_dir_train=data_dir_train, data_dir_test=data_dir_test, save_dir=save_dir, transform = transform,\n",
    "                     first_exp=first_exp, nexp=nexp)"
   ]
  },
  {
   "cell_type": "code",
   "execution_count": null,
   "metadata": {},
   "outputs": [],
   "source": [
    "# imagenet_cnn_times_seed100 = 297 min\n",
    "# imagenet_cnn_times_seed500 = 300 min"
   ]
  }
 ],
 "metadata": {
  "kernelspec": {
   "display_name": "tesi",
   "language": "python",
   "name": "python3"
  },
  "language_info": {
   "codemirror_mode": {
    "name": "ipython",
    "version": 3
   },
   "file_extension": ".py",
   "mimetype": "text/x-python",
   "name": "python",
   "nbconvert_exporter": "python",
   "pygments_lexer": "ipython3",
   "version": "3.12.2"
  }
 },
 "nbformat": 4,
 "nbformat_minor": 2
}
