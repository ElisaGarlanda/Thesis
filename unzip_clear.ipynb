{
 "cells": [
  {
   "cell_type": "code",
   "execution_count": 3,
   "metadata": {
    "tags": []
   },
   "outputs": [],
   "source": [
    "import zipfile as zf\n",
    "#clear_train = 'clear100-train-image-only.zip'\n",
    "#export_clear_train = 'clear100-train-image-only'\n",
    "#files = zf.ZipFile(clear_train, 'r')\n",
    "#files.extractall(export_clear_train)\n",
    "#files.close()\n",
    "\n",
    "clear_test = 'clear100-test.zip'\n",
    "export_clear_test = 'clear100-test'\n",
    "files = zf.ZipFile(clear_test, 'r')\n",
    "files.extractall(export_clear_test)\n",
    "files.close()"
   ]
  }
 ],
 "metadata": {
  "kernelspec": {
   "display_name": "Python 3 (ipykernel)",
   "language": "python",
   "name": "python3"
  },
  "language_info": {
   "codemirror_mode": {
    "name": "ipython",
    "version": 3
   },
   "file_extension": ".py",
   "mimetype": "text/x-python",
   "name": "python",
   "nbconvert_exporter": "python",
   "pygments_lexer": "ipython3",
   "version": "3.11.5"
  }
 },
 "nbformat": 4,
 "nbformat_minor": 4
}
